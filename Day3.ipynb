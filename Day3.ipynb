{
 "cells": [
  {
   "cell_type": "markdown",
   "metadata": {},
   "source": [
    "# 実験3 100行コンパイラ"
   ]
  },
  {
   "cell_type": "code",
   "execution_count": null,
   "metadata": {
    "collapsed": false
   },
   "outputs": [],
   "source": [
    "require(\"./cumps\");\n",
    "function print(s) { console.log(s); }"
   ]
  },
  {
   "cell_type": "markdown",
   "metadata": {},
   "source": [
    "## 式のコンパイル"
   ]
  },
  {
   "cell_type": "markdown",
   "metadata": {},
   "source": [
    "式の文法"
   ]
  },
  {
   "cell_type": "markdown",
   "metadata": {},
   "source": [
    "<img src=\"rail_expr.png\">"
   ]
  },
  {
   "cell_type": "markdown",
   "metadata": {},
   "source": [
    "式のパーサの定義"
   ]
  },
  {
   "cell_type": "code",
   "execution_count": null,
   "metadata": {
    "collapsed": true
   },
   "outputs": [],
   "source": [
    "function expr(s) { return expr(s); };\n",
    "var id   = pat(\"[a-zA-Z_][a-zA-Z0-9_]*\");\n",
    "var num    = pat(\"[0-9]+\");\n",
    "var expr0  = oneOf(id, num, seq(\"(\", expr, \")\"));\n",
    "var expr1  = sepBy(expr0, oneOf(w(\"*\"), w(\"/\")));\n",
    "var expr2  = sepBy(expr1, oneOf(w(\"+\"), w(\"-\")));\n",
    "var expr3  = sepBy(expr2, oneOf(w(\">\"), w(\"<\")));\n",
    "var expr   = sepBy(expr3, w(\"==\"));"
   ]
  },
  {
   "cell_type": "markdown",
   "metadata": {},
   "source": [
    "数（num）の翻訳"
   ]
  },
  {
   "cell_type": "code",
   "execution_count": null,
   "metadata": {
    "collapsed": false
   },
   "outputs": [],
   "source": [
    "num.action = function (s) {\n",
    "    var n = parseInt(s);\n",
    "    return function () { return n; };\n",
    "};"
   ]
  },
  {
   "cell_type": "markdown",
   "metadata": {},
   "source": [
    "テスト"
   ]
  },
  {
   "cell_type": "code",
   "execution_count": null,
   "metadata": {
    "collapsed": false
   },
   "outputs": [],
   "source": [
    "var f = num(\"123\").a;\n",
    "f()"
   ]
  },
  {
   "cell_type": "markdown",
   "metadata": {},
   "source": [
    "識別子（id）の翻訳"
   ]
  },
  {
   "cell_type": "code",
   "execution_count": null,
   "metadata": {
    "collapsed": false
   },
   "outputs": [],
   "source": [
    "id.action = function (x) {\n",
    "    return function () { return state[x]; };\n",
    "};"
   ]
  },
  {
   "cell_type": "markdown",
   "metadata": {},
   "source": [
    "テスト"
   ]
  },
  {
   "cell_type": "code",
   "execution_count": null,
   "metadata": {
    "collapsed": false
   },
   "outputs": [],
   "source": [
    "var f = id(\"x\").a; "
   ]
  },
  {
   "cell_type": "code",
   "execution_count": null,
   "metadata": {
    "collapsed": false
   },
   "outputs": [],
   "source": [
    "var state = { x : 777 }; // xの現在値を変えて再実行してみよ\n",
    "f()"
   ]
  },
  {
   "cell_type": "markdown",
   "metadata": {},
   "source": [
    "式（expr,expr1,expr2,expr3）の翻訳"
   ]
  },
  {
   "cell_type": "code",
   "execution_count": null,
   "metadata": {
    "collapsed": true
   },
   "outputs": [],
   "source": [
    "function compileExpr(ts) {\n",
    "    return function() {\n",
    "        var v = ts[0]();\n",
    "        for (var i = 1; i < ts.length - 1; i += 2) {\n",
    "            switch (ts[i]) {\n",
    "              case \"+\": v += ts[i + 1](); break;\n",
    "              case \"-\": v -= ts[i + 1](); break;\n",
    "              case \"*\": v *= ts[i + 1](); break;\n",
    "              case \"/\": v = parseInt(v / ts[i + 1]()); break;\n",
    "              case \"<\": v = v < ts[i + 1](); break; \n",
    "              case \">\": v = v > ts[i + 1](); break;\n",
    "              case \"==\": v = v === ts[i + 1](); \n",
    "            }\n",
    "        }\n",
    "        return v;\n",
    "    };\n",
    "}\n",
    "\n",
    "expr1.action = expr2.action = expr3.action = expr.action = compileExpr;"
   ]
  },
  {
   "cell_type": "markdown",
   "metadata": {},
   "source": [
    "テスト"
   ]
  },
  {
   "cell_type": "code",
   "execution_count": null,
   "metadata": {
    "collapsed": false
   },
   "outputs": [],
   "source": [
    "var f = expr(\"x + y * 2\").a;"
   ]
  },
  {
   "cell_type": "code",
   "execution_count": null,
   "metadata": {
    "collapsed": false
   },
   "outputs": [],
   "source": [
    "var state = { x : 1, y : 2 }; // x,yの現在値を変えて再実行してみよ\n",
    "f()"
   ]
  },
  {
   "cell_type": "markdown",
   "metadata": {},
   "source": [
    "[課題4] 式の文法を拡張して，以下の演算子をサポートせよ．\n",
    "\n",
    "     %, <=, >=, !=\n",
    "ただし，%の優先順位は*と同じであり、<=と>=の優先順位は<と同じであり，!=の優先順位は==と同じであるとする．     "
   ]
  },
  {
   "cell_type": "code",
   "execution_count": null,
   "metadata": {
    "collapsed": true
   },
   "outputs": [],
   "source": []
  },
  {
   "cell_type": "markdown",
   "metadata": {},
   "source": [
    "## 実行文（ステートメント）のコンパイル"
   ]
  },
  {
   "cell_type": "markdown",
   "metadata": {},
   "source": [
    "実行文の文法"
   ]
  },
  {
   "cell_type": "markdown",
   "metadata": {},
   "source": [
    "<img src=\"rail_stmt.png\">"
   ]
  },
  {
   "cell_type": "markdown",
   "metadata": {},
   "source": [
    "実行文のパーサの定義"
   ]
  },
  {
   "cell_type": "code",
   "execution_count": null,
   "metadata": {
    "collapsed": false
   },
   "outputs": [],
   "source": [
    "function stmt(s) { return stmt(s); }\n",
    "var lval       = pat(\"[a-zA-Z_][a-zA-Z0-9_]*\");\n",
    "var assignStmt = seq(lval, \"=\", expr, \";\");\n",
    "var whileStmt  = seq(\"while\", \"(\", expr, \")\", stmt);\n",
    "var ifStmt     = seq(\"if\", \"(\", expr, \")\", stmt, opt(seq(\"else\", stmt)));\n",
    "var printStmt  = seq(\"print\", expr, \";\");\n",
    "var program    = moreThan0(stmt);\n",
    "var stmt       = oneOf(assignStmt, whileStmt, ifStmt, printStmt, seq(\"{\", program, \"}\"));"
   ]
  },
  {
   "cell_type": "markdown",
   "metadata": {},
   "source": [
    "代入文（assignStmt）の翻訳"
   ]
  },
  {
   "cell_type": "code",
   "execution_count": null,
   "metadata": {
    "collapsed": false
   },
   "outputs": [],
   "source": [
    "assignStmt.action = function(ts) {\n",
    "    var x = ts[0], evalRHS = ts[1];\n",
    "    return function () { state[x] = evalRHS(); };\n",
    "};"
   ]
  },
  {
   "cell_type": "markdown",
   "metadata": {},
   "source": [
    "テスト"
   ]
  },
  {
   "cell_type": "code",
   "execution_count": null,
   "metadata": {
    "collapsed": false
   },
   "outputs": [],
   "source": [
    "var aout = assignStmt(\"x=x+1;\").a;"
   ]
  },
  {
   "cell_type": "code",
   "execution_count": null,
   "metadata": {
    "collapsed": false
   },
   "outputs": [],
   "source": [
    "var state = { x : 0 };"
   ]
  },
  {
   "cell_type": "code",
   "execution_count": null,
   "metadata": {
    "collapsed": false
   },
   "outputs": [],
   "source": [
    "aout()\n",
    "state"
   ]
  },
  {
   "cell_type": "markdown",
   "metadata": {},
   "source": [
    "print文（printStmt）の翻訳"
   ]
  },
  {
   "cell_type": "code",
   "execution_count": null,
   "metadata": {
    "collapsed": false
   },
   "outputs": [],
   "source": [
    "printStmt.action = function(ts) {\n",
    "    var eval = ts[0];\n",
    "    return function () { print(eval()); };\n",
    "};"
   ]
  },
  {
   "cell_type": "markdown",
   "metadata": {},
   "source": [
    "テスト"
   ]
  },
  {
   "cell_type": "code",
   "execution_count": null,
   "metadata": {
    "collapsed": false
   },
   "outputs": [],
   "source": [
    "var aout = printStmt(\"print x + y;\").a;"
   ]
  },
  {
   "cell_type": "code",
   "execution_count": null,
   "metadata": {
    "collapsed": false
   },
   "outputs": [],
   "source": [
    "var state = {x : 1, y : 2};\n",
    "aout()"
   ]
  },
  {
   "cell_type": "markdown",
   "metadata": {},
   "source": [
    "複文（program）の翻訳"
   ]
  },
  {
   "cell_type": "code",
   "execution_count": null,
   "metadata": {
    "collapsed": false
   },
   "outputs": [],
   "source": [
    "program.action = function (ts) {\n",
    "    return function() { for (i = 0; i < ts.length; i++) ts[i](); }; \n",
    "};"
   ]
  },
  {
   "cell_type": "markdown",
   "metadata": {},
   "source": [
    "テスト"
   ]
  },
  {
   "cell_type": "code",
   "execution_count": null,
   "metadata": {
    "collapsed": false
   },
   "outputs": [],
   "source": [
    "var aout = program(\"x = 1; print x; x = x + 1; print x;\").a;"
   ]
  },
  {
   "cell_type": "code",
   "execution_count": null,
   "metadata": {
    "collapsed": false
   },
   "outputs": [],
   "source": [
    "var state = {};\n",
    "aout()"
   ]
  },
  {
   "cell_type": "markdown",
   "metadata": {},
   "source": [
    "while文（whileStmt）の翻訳"
   ]
  },
  {
   "cell_type": "code",
   "execution_count": null,
   "metadata": {
    "collapsed": false
   },
   "outputs": [],
   "source": [
    "whileStmt.action = function(ts) {\n",
    "    var evalC = ts[0], runStmt = ts[1];\n",
    "    return function () { while (evalC()) runStmt(); };\n",
    "};"
   ]
  },
  {
   "cell_type": "markdown",
   "metadata": {},
   "source": [
    "テスト"
   ]
  },
  {
   "cell_type": "code",
   "execution_count": null,
   "metadata": {
    "collapsed": false
   },
   "outputs": [],
   "source": [
    "var aout = whileStmt(\"while (x > 0) { print x * x; x = x - 1; }\").a;"
   ]
  },
  {
   "cell_type": "code",
   "execution_count": null,
   "metadata": {
    "collapsed": false
   },
   "outputs": [],
   "source": [
    "var state = {x : 10};\n",
    "aout()"
   ]
  },
  {
   "cell_type": "markdown",
   "metadata": {},
   "source": [
    "if文（ifStmt）の翻訳"
   ]
  },
  {
   "cell_type": "code",
   "execution_count": null,
   "metadata": {
    "collapsed": false
   },
   "outputs": [],
   "source": [
    "ifStmt.action = function(ts) {\n",
    "    var evalC = ts[0], runIf = ts[1], runElse = ts[2] ? ts[2] : function() {};\n",
    "    return function() { if (evalC()) runIf(); else runElse(); };       \n",
    "};"
   ]
  },
  {
   "cell_type": "markdown",
   "metadata": {},
   "source": [
    "テスト"
   ]
  },
  {
   "cell_type": "code",
   "execution_count": null,
   "metadata": {
    "collapsed": false
   },
   "outputs": [],
   "source": [
    "var aout = ifStmt(\"if (0 < 1) print 111; else print 222;\").a;\n",
    "aout()"
   ]
  },
  {
   "cell_type": "code",
   "execution_count": null,
   "metadata": {
    "collapsed": false
   },
   "outputs": [],
   "source": [
    "var aout = ifStmt(\"if (0 > 1) print 111; else print 222;\").a;\n",
    "aout()"
   ]
  },
  {
   "cell_type": "markdown",
   "metadata": {},
   "source": [
    "全体のテスト"
   ]
  },
  {
   "cell_type": "code",
   "execution_count": null,
   "metadata": {
    "collapsed": false
   },
   "outputs": [],
   "source": [
    "var aout = program(\"x = 0; while (x < 10) { print x; x = x + 1; }\").a;\n",
    "var state = {};\n",
    "aout()"
   ]
  },
  {
   "cell_type": "markdown",
   "metadata": {},
   "source": [
    "以下はフィボナッチ数列の最初の30個を出力する"
   ]
  },
  {
   "cell_type": "code",
   "execution_count": null,
   "metadata": {
    "collapsed": false
   },
   "outputs": [],
   "source": [
    "var fib =\"\\\n",
    "n = 30;\\\n",
    "a = 0;\\\n",
    "b = 1;\\\n",
    "while (n > 0) {\\\n",
    "  print b;\\\n",
    "  c = b;\\\n",
    "  b = a + b;\\\n",
    "  a = c;\\\n",
    "  n = n - 1;\\\n",
    "}\\\n",
    "\"\n",
    "state = {};\n",
    "(program(fib).a)();"
   ]
  },
  {
   "cell_type": "markdown",
   "metadata": {},
   "source": [
    "ファイルからソース・プログラムを読み込んで実行"
   ]
  },
  {
   "cell_type": "code",
   "execution_count": null,
   "metadata": {
    "collapsed": false
   },
   "outputs": [],
   "source": [
    "var fs = require(\"fs\");\n",
    "function run(file) {\n",
    "    var src = fs.readFileSync(file, {encoding : \"utf8\"});\n",
    "    state = {};\n",
    "    var aout = program(src).a;\n",
    "    aout();\n",
    "}"
   ]
  },
  {
   "cell_type": "code",
   "execution_count": null,
   "metadata": {
    "collapsed": false
   },
   "outputs": [],
   "source": [
    "run(\"./samples/fib.toy\");"
   ]
  },
  {
   "cell_type": "markdown",
   "metadata": {},
   "source": [
    "[課題5] C言語風のdo-while文をサポートするようにプログラムを拡張せよ（do-while文のパーサーとアクション関数をつくり追加せよ）．"
   ]
  },
  {
   "cell_type": "code",
   "execution_count": null,
   "metadata": {
    "collapsed": true
   },
   "outputs": [],
   "source": []
  }
 ],
 "metadata": {
  "kernelspec": {
   "display_name": "Javascript (Node.js)",
   "language": "javascript",
   "name": "javascript"
  },
  "language_info": {
   "file_extension": ".js",
   "mimetype": "application/javascript",
   "name": "javascript",
   "version": "6.2.0"
  }
 },
 "nbformat": 4,
 "nbformat_minor": 0
}
