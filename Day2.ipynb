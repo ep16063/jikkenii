{
 "cells": [
  {
   "cell_type": "markdown",
   "metadata": {},
   "source": [
    "# 実験2 電卓（式の計算）"
   ]
  },
  {
   "cell_type": "code",
   "execution_count": null,
   "metadata": {
    "collapsed": false
   },
   "outputs": [],
   "source": [
    "require(\"./cumps\");\n",
    "function print(s) { console.log(s); }"
   ]
  },
  {
   "cell_type": "code",
   "execution_count": null,
   "metadata": {
    "collapsed": false
   },
   "outputs": [],
   "source": [
    "var num = pat(\"[0-9]+\");\n",
    "var csv = sepBy(num, \",\");"
   ]
  },
  {
   "cell_type": "code",
   "execution_count": null,
   "metadata": {
    "collapsed": false
   },
   "outputs": [],
   "source": [
    "csv(\"12,3,456\")"
   ]
  },
  {
   "cell_type": "markdown",
   "metadata": {},
   "source": [
    "parseInt関数を用いると文字列を整数に変換できる"
   ]
  },
  {
   "cell_type": "code",
   "execution_count": null,
   "metadata": {
    "collapsed": false
   },
   "outputs": [],
   "source": [
    "parseInt(\"123\")"
   ]
  },
  {
   "cell_type": "code",
   "execution_count": null,
   "metadata": {
    "collapsed": false
   },
   "outputs": [],
   "source": [
    "parseInt(\"1010101010\",2)"
   ]
  },
  {
   "cell_type": "code",
   "execution_count": null,
   "metadata": {
    "collapsed": false
   },
   "outputs": [],
   "source": [
    "parseInt(\"ffe8c\",16)"
   ]
  },
  {
   "cell_type": "code",
   "execution_count": null,
   "metadata": {
    "collapsed": false
   },
   "outputs": [],
   "source": [
    "parseInt(\"123.45\")"
   ]
  },
  {
   "cell_type": "markdown",
   "metadata": {},
   "source": [
    "parseInt関数をnumパーサのアクションとしてセット"
   ]
  },
  {
   "cell_type": "code",
   "execution_count": null,
   "metadata": {
    "collapsed": false
   },
   "outputs": [],
   "source": [
    "num.action = parseInt // 再び上の例csv(\"12,3,456\")を実行してみよ"
   ]
  },
  {
   "cell_type": "markdown",
   "metadata": {},
   "source": [
    "数式の文法（電卓式）\n",
    "\\begin{align*}\n",
    "\\text{<演算子>} &\\rightarrow \\text{\"+\"} \\mid  \\text{\"-\"} \\mid  \\text{\"*\"} \\mid  \\text{\"/\"} \\\\\n",
    "\\text{<式>} &\\rightarrow \\text{<数>} (\\text{<演算子>}　\\text{<数>})*\n",
    "\\end{align*}"
   ]
  },
  {
   "cell_type": "code",
   "execution_count": null,
   "metadata": {
    "collapsed": false
   },
   "outputs": [],
   "source": [
    "var op = oneOf(w(\"+\"), w(\"-\"), w(\"*\"), w(\"/\"));\n",
    "var expr0 = sepBy(num, op);"
   ]
  },
  {
   "cell_type": "code",
   "execution_count": null,
   "metadata": {
    "collapsed": false
   },
   "outputs": [],
   "source": [
    "expr0(\"1+2*3-4/5\")"
   ]
  },
  {
   "cell_type": "code",
   "execution_count": null,
   "metadata": {
    "collapsed": false
   },
   "outputs": [],
   "source": [
    "function evalExpr(ts) {\n",
    "    var v = ts[0];\n",
    "    for (var i = 1; i < ts.length - 1; i += 2) {\n",
    "        switch (ts[i]) {\n",
    "          case \"+\" : v += ts[i + 1]; break;\n",
    "          case \"-\" : v -= ts[i + 1]; break;\n",
    "          case \"*\" : v *= ts[i + 1]; break;\n",
    "          case \"/\" : v = parseInt(v / ts[i + 1]); \n",
    "        }\n",
    "    }\n",
    "    return v;\n",
    "}"
   ]
  },
  {
   "cell_type": "code",
   "execution_count": null,
   "metadata": {
    "collapsed": false
   },
   "outputs": [],
   "source": [
    "expr0.action = evalExpr;"
   ]
  },
  {
   "cell_type": "code",
   "execution_count": null,
   "metadata": {
    "collapsed": false
   },
   "outputs": [],
   "source": [
    "expr0(\"1+2*3-4/5\")"
   ]
  },
  {
   "cell_type": "code",
   "execution_count": null,
   "metadata": {
    "collapsed": false
   },
   "outputs": [],
   "source": [
    "expr0(\"1+2*3\")"
   ]
  },
  {
   "cell_type": "markdown",
   "metadata": {},
   "source": [
    "演算子の優先順位を考慮した文法\n",
    "\\begin{align*}\n",
    "\\text{<項>} &\\rightarrow \\text{<数>} ((\\text{<\"*\">}\\mid\\text{<\"/\">}) \\text{<項>})* \\\\\n",
    "\\text{<式>} &\\rightarrow \\text{<項>} ((\\text{<\"+\">}\\mid\\text{<\"-\">}) \\text{<式>})*\n",
    "\\end{align*}"
   ]
  },
  {
   "cell_type": "code",
   "execution_count": null,
   "metadata": {
    "collapsed": false
   },
   "outputs": [],
   "source": [
    "function expr(s) { return expr(s); }\n",
    "var term   = sepBy(num, oneOf(w(\"*\"), word(\"/\")));\n",
    "var expr   = sepBy(term, oneOf(w(\"+\"), w(\"-\")));\n",
    "\n",
    "term.action = expr.action = evalExpr;"
   ]
  },
  {
   "cell_type": "code",
   "execution_count": null,
   "metadata": {
    "collapsed": false
   },
   "outputs": [],
   "source": [
    "expr(\"1+2*3\")"
   ]
  },
  {
   "cell_type": "markdown",
   "metadata": {},
   "source": [
    "さらにカッコを許す文法\n",
    "\\begin{align*}\n",
    "\\text{<因子>} &\\rightarrow \\text{<数>} \\ \\mid \\ \\text{\"(\"}\\text{<式>}\\text{\")\"} \\\\\n",
    "\\text{<項>} &\\rightarrow \\text{<因子>} ((\\text{<\"*\">}\\mid\\text{<\"/\">}) \\text{<項>})* \\\\\n",
    "\\text{<式>} &\\rightarrow \\text{<項>} ((\\text{<\"+\">}\\mid\\text{<\"-\">}) \\text{<式>})*\n",
    "\\end{align*}"
   ]
  },
  {
   "cell_type": "code",
   "execution_count": null,
   "metadata": {
    "collapsed": false
   },
   "outputs": [],
   "source": [
    "function expr(s) { return expr(s); }\n",
    "var factor = oneOf(num, seq(\"(\", expr, \")\"));\n",
    "var term   = sepBy(factor, oneOf(w(\"*\"), word(\"/\")));\n",
    "var expr   = sepBy(term, oneOf(w(\"+\"), w(\"-\")));\n",
    "\n",
    "term.action = expr.action = evalExpr;"
   ]
  },
  {
   "cell_type": "code",
   "execution_count": null,
   "metadata": {
    "collapsed": false
   },
   "outputs": [],
   "source": [
    "expr(\"(1+2)*3\")"
   ]
  },
  {
   "cell_type": "markdown",
   "metadata": {},
   "source": [
    "[課題3] termとexprのアクションとしてevalExprの代わりに適当な関数(それをemitASTと呼ぶ)を設定し，数式を読み込むと括弧を補った数式が出力されるようにせよ．"
   ]
  },
  {
   "cell_type": "code",
   "execution_count": null,
   "metadata": {
    "collapsed": false
   },
   "outputs": [],
   "source": [
    "function emitAST(ts) {\n",
    "    // evalExprを参考にここを自分で書く\n",
    "}\n",
    "\n",
    "term.action = expr.action = emitAST;"
   ]
  },
  {
   "cell_type": "markdown",
   "metadata": {},
   "source": [
    "テスト例（十分ではない．他の例は自分で補え．）"
   ]
  },
  {
   "cell_type": "code",
   "execution_count": null,
   "metadata": {
    "collapsed": false
   },
   "outputs": [],
   "source": [
    "expr(\"1+2*3\") // ==> (1+(2*3))"
   ]
  },
  {
   "cell_type": "code",
   "execution_count": null,
   "metadata": {
    "collapsed": false
   },
   "outputs": [],
   "source": [
    "expr(\"1-2-3-4\") // ==> (((1-2)-3)-4)"
   ]
  }
 ],
 "metadata": {
  "kernelspec": {
   "display_name": "Javascript (Node.js)",
   "language": "javascript",
   "name": "javascript"
  },
  "language_info": {
   "file_extension": ".js",
   "mimetype": "application/javascript",
   "name": "javascript",
   "version": "6.2.0"
  }
 },
 "nbformat": 4,
 "nbformat_minor": 0
}
